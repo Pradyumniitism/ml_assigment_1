{
 "cells": [
  {
   "cell_type": "markdown",
   "id": "44561d0e-846c-406f-a230-246a3003f2d2",
   "metadata": {},
   "source": [
    "# ML - Linear regression - Assignment 1"
   ]
  },
  {
   "cell_type": "markdown",
   "id": "04bdab33-6dac-440b-b5c1-74f2fa32583c",
   "metadata": {},
   "source": [
    "## Importing libraries"
   ]
  },
  {
   "cell_type": "code",
   "execution_count": 1,
   "id": "a80bc3f5-553b-4be5-8261-251ccfbab37a",
   "metadata": {},
   "outputs": [],
   "source": [
    "import numpy as np\n",
    "import pandas as pd\n",
    "import matplotlib.pyplot as plt\n",
    "import seaborn as sns"
   ]
  },
  {
   "cell_type": "markdown",
   "id": "efe9c818-3046-47a2-8217-ae195d47aa83",
   "metadata": {},
   "source": [
    "### Reading the data using pandas and making a dataframe."
   ]
  },
  {
   "cell_type": "code",
   "execution_count": 2,
   "id": "b098317e-a3bf-48cc-b4c5-4730fb39d4b2",
   "metadata": {},
   "outputs": [],
   "source": [
    "df = pd.read_csv(r\"C:\\Users\\Pradyumn Sharma\\Desktop\\MACHINE LEARNING ASSIGNMENT\\ASSIGNMENT 1\\database.csv\")"
   ]
  },
  {
   "cell_type": "code",
   "execution_count": 3,
   "id": "f16029e8-8395-4a38-a1bf-899ed1aab401",
   "metadata": {},
   "outputs": [
    {
     "data": {
      "text/html": [
       "<div>\n",
       "<style scoped>\n",
       "    .dataframe tbody tr th:only-of-type {\n",
       "        vertical-align: middle;\n",
       "    }\n",
       "\n",
       "    .dataframe tbody tr th {\n",
       "        vertical-align: top;\n",
       "    }\n",
       "\n",
       "    .dataframe thead th {\n",
       "        text-align: right;\n",
       "    }\n",
       "</style>\n",
       "<table border=\"1\" class=\"dataframe\">\n",
       "  <thead>\n",
       "    <tr style=\"text-align: right;\">\n",
       "      <th></th>\n",
       "      <th>Cement (component 1)(kg in a m^3 mixture)</th>\n",
       "      <th>Blast Furnace Slag (component 2)(kg in a m^3 mixture)</th>\n",
       "      <th>Fly Ash (component 3)(kg in a m^3 mixture)</th>\n",
       "      <th>Water  (component 4)(kg in a m^3 mixture)</th>\n",
       "      <th>Superplasticizer (component 5)(kg in a m^3 mixture)</th>\n",
       "      <th>Coarse Aggregate  (component 6)(kg in a m^3 mixture)</th>\n",
       "      <th>Fine Aggregate (component 7)(kg in a m^3 mixture)</th>\n",
       "      <th>Age (day)</th>\n",
       "      <th>Concrete compressive strength(MPa, megapascals)</th>\n",
       "    </tr>\n",
       "  </thead>\n",
       "  <tbody>\n",
       "    <tr>\n",
       "      <th>0</th>\n",
       "      <td>540.0</td>\n",
       "      <td>0.0</td>\n",
       "      <td>0.0</td>\n",
       "      <td>162.0</td>\n",
       "      <td>2.5</td>\n",
       "      <td>1040.0</td>\n",
       "      <td>676.0</td>\n",
       "      <td>28</td>\n",
       "      <td>79.99</td>\n",
       "    </tr>\n",
       "    <tr>\n",
       "      <th>1</th>\n",
       "      <td>540.0</td>\n",
       "      <td>0.0</td>\n",
       "      <td>0.0</td>\n",
       "      <td>162.0</td>\n",
       "      <td>2.5</td>\n",
       "      <td>1055.0</td>\n",
       "      <td>676.0</td>\n",
       "      <td>28</td>\n",
       "      <td>61.89</td>\n",
       "    </tr>\n",
       "    <tr>\n",
       "      <th>2</th>\n",
       "      <td>332.5</td>\n",
       "      <td>142.5</td>\n",
       "      <td>0.0</td>\n",
       "      <td>228.0</td>\n",
       "      <td>0.0</td>\n",
       "      <td>932.0</td>\n",
       "      <td>594.0</td>\n",
       "      <td>270</td>\n",
       "      <td>40.27</td>\n",
       "    </tr>\n",
       "    <tr>\n",
       "      <th>3</th>\n",
       "      <td>332.5</td>\n",
       "      <td>142.5</td>\n",
       "      <td>0.0</td>\n",
       "      <td>228.0</td>\n",
       "      <td>0.0</td>\n",
       "      <td>932.0</td>\n",
       "      <td>594.0</td>\n",
       "      <td>365</td>\n",
       "      <td>41.05</td>\n",
       "    </tr>\n",
       "    <tr>\n",
       "      <th>4</th>\n",
       "      <td>198.6</td>\n",
       "      <td>132.4</td>\n",
       "      <td>0.0</td>\n",
       "      <td>192.0</td>\n",
       "      <td>0.0</td>\n",
       "      <td>978.4</td>\n",
       "      <td>825.5</td>\n",
       "      <td>360</td>\n",
       "      <td>44.30</td>\n",
       "    </tr>\n",
       "    <tr>\n",
       "      <th>...</th>\n",
       "      <td>...</td>\n",
       "      <td>...</td>\n",
       "      <td>...</td>\n",
       "      <td>...</td>\n",
       "      <td>...</td>\n",
       "      <td>...</td>\n",
       "      <td>...</td>\n",
       "      <td>...</td>\n",
       "      <td>...</td>\n",
       "    </tr>\n",
       "    <tr>\n",
       "      <th>1025</th>\n",
       "      <td>276.4</td>\n",
       "      <td>116.0</td>\n",
       "      <td>90.3</td>\n",
       "      <td>179.6</td>\n",
       "      <td>8.9</td>\n",
       "      <td>870.1</td>\n",
       "      <td>768.3</td>\n",
       "      <td>28</td>\n",
       "      <td>44.28</td>\n",
       "    </tr>\n",
       "    <tr>\n",
       "      <th>1026</th>\n",
       "      <td>322.2</td>\n",
       "      <td>0.0</td>\n",
       "      <td>115.6</td>\n",
       "      <td>196.0</td>\n",
       "      <td>10.4</td>\n",
       "      <td>817.9</td>\n",
       "      <td>813.4</td>\n",
       "      <td>28</td>\n",
       "      <td>31.18</td>\n",
       "    </tr>\n",
       "    <tr>\n",
       "      <th>1027</th>\n",
       "      <td>148.5</td>\n",
       "      <td>139.4</td>\n",
       "      <td>108.6</td>\n",
       "      <td>192.7</td>\n",
       "      <td>6.1</td>\n",
       "      <td>892.4</td>\n",
       "      <td>780.0</td>\n",
       "      <td>28</td>\n",
       "      <td>23.70</td>\n",
       "    </tr>\n",
       "    <tr>\n",
       "      <th>1028</th>\n",
       "      <td>159.1</td>\n",
       "      <td>186.7</td>\n",
       "      <td>0.0</td>\n",
       "      <td>175.6</td>\n",
       "      <td>11.3</td>\n",
       "      <td>989.6</td>\n",
       "      <td>788.9</td>\n",
       "      <td>28</td>\n",
       "      <td>32.77</td>\n",
       "    </tr>\n",
       "    <tr>\n",
       "      <th>1029</th>\n",
       "      <td>260.9</td>\n",
       "      <td>100.5</td>\n",
       "      <td>78.3</td>\n",
       "      <td>200.6</td>\n",
       "      <td>8.6</td>\n",
       "      <td>864.5</td>\n",
       "      <td>761.5</td>\n",
       "      <td>28</td>\n",
       "      <td>32.40</td>\n",
       "    </tr>\n",
       "  </tbody>\n",
       "</table>\n",
       "<p>1030 rows × 9 columns</p>\n",
       "</div>"
      ],
      "text/plain": [
       "      Cement (component 1)(kg in a m^3 mixture)  \\\n",
       "0                                         540.0   \n",
       "1                                         540.0   \n",
       "2                                         332.5   \n",
       "3                                         332.5   \n",
       "4                                         198.6   \n",
       "...                                         ...   \n",
       "1025                                      276.4   \n",
       "1026                                      322.2   \n",
       "1027                                      148.5   \n",
       "1028                                      159.1   \n",
       "1029                                      260.9   \n",
       "\n",
       "      Blast Furnace Slag (component 2)(kg in a m^3 mixture)  \\\n",
       "0                                                   0.0       \n",
       "1                                                   0.0       \n",
       "2                                                 142.5       \n",
       "3                                                 142.5       \n",
       "4                                                 132.4       \n",
       "...                                                 ...       \n",
       "1025                                              116.0       \n",
       "1026                                                0.0       \n",
       "1027                                              139.4       \n",
       "1028                                              186.7       \n",
       "1029                                              100.5       \n",
       "\n",
       "      Fly Ash (component 3)(kg in a m^3 mixture)  \\\n",
       "0                                            0.0   \n",
       "1                                            0.0   \n",
       "2                                            0.0   \n",
       "3                                            0.0   \n",
       "4                                            0.0   \n",
       "...                                          ...   \n",
       "1025                                        90.3   \n",
       "1026                                       115.6   \n",
       "1027                                       108.6   \n",
       "1028                                         0.0   \n",
       "1029                                        78.3   \n",
       "\n",
       "      Water  (component 4)(kg in a m^3 mixture)  \\\n",
       "0                                         162.0   \n",
       "1                                         162.0   \n",
       "2                                         228.0   \n",
       "3                                         228.0   \n",
       "4                                         192.0   \n",
       "...                                         ...   \n",
       "1025                                      179.6   \n",
       "1026                                      196.0   \n",
       "1027                                      192.7   \n",
       "1028                                      175.6   \n",
       "1029                                      200.6   \n",
       "\n",
       "      Superplasticizer (component 5)(kg in a m^3 mixture)  \\\n",
       "0                                                   2.5     \n",
       "1                                                   2.5     \n",
       "2                                                   0.0     \n",
       "3                                                   0.0     \n",
       "4                                                   0.0     \n",
       "...                                                 ...     \n",
       "1025                                                8.9     \n",
       "1026                                               10.4     \n",
       "1027                                                6.1     \n",
       "1028                                               11.3     \n",
       "1029                                                8.6     \n",
       "\n",
       "      Coarse Aggregate  (component 6)(kg in a m^3 mixture)  \\\n",
       "0                                                1040.0      \n",
       "1                                                1055.0      \n",
       "2                                                 932.0      \n",
       "3                                                 932.0      \n",
       "4                                                 978.4      \n",
       "...                                                 ...      \n",
       "1025                                              870.1      \n",
       "1026                                              817.9      \n",
       "1027                                              892.4      \n",
       "1028                                              989.6      \n",
       "1029                                              864.5      \n",
       "\n",
       "      Fine Aggregate (component 7)(kg in a m^3 mixture)  Age (day)  \\\n",
       "0                                                 676.0         28   \n",
       "1                                                 676.0         28   \n",
       "2                                                 594.0        270   \n",
       "3                                                 594.0        365   \n",
       "4                                                 825.5        360   \n",
       "...                                                 ...        ...   \n",
       "1025                                              768.3         28   \n",
       "1026                                              813.4         28   \n",
       "1027                                              780.0         28   \n",
       "1028                                              788.9         28   \n",
       "1029                                              761.5         28   \n",
       "\n",
       "      Concrete compressive strength(MPa, megapascals)   \n",
       "0                                                79.99  \n",
       "1                                                61.89  \n",
       "2                                                40.27  \n",
       "3                                                41.05  \n",
       "4                                                44.30  \n",
       "...                                                ...  \n",
       "1025                                             44.28  \n",
       "1026                                             31.18  \n",
       "1027                                             23.70  \n",
       "1028                                             32.77  \n",
       "1029                                             32.40  \n",
       "\n",
       "[1030 rows x 9 columns]"
      ]
     },
     "execution_count": 3,
     "metadata": {},
     "output_type": "execute_result"
    }
   ],
   "source": [
    "df"
   ]
  },
  {
   "cell_type": "markdown",
   "id": "5e156344-35b9-4b65-9b7e-03dfab1f3003",
   "metadata": {},
   "source": [
    "#### Checking the data information (meta)"
   ]
  },
  {
   "cell_type": "code",
   "execution_count": 4,
   "id": "04c2e03d-2ccc-49c2-a0d6-ed12f6cd5e66",
   "metadata": {},
   "outputs": [
    {
     "name": "stdout",
     "output_type": "stream",
     "text": [
      "<class 'pandas.core.frame.DataFrame'>\n",
      "RangeIndex: 1030 entries, 0 to 1029\n",
      "Data columns (total 9 columns):\n",
      " #   Column                                                 Non-Null Count  Dtype  \n",
      "---  ------                                                 --------------  -----  \n",
      " 0   Cement (component 1)(kg in a m^3 mixture)              1030 non-null   float64\n",
      " 1   Blast Furnace Slag (component 2)(kg in a m^3 mixture)  1030 non-null   float64\n",
      " 2   Fly Ash (component 3)(kg in a m^3 mixture)             1030 non-null   float64\n",
      " 3   Water  (component 4)(kg in a m^3 mixture)              1030 non-null   float64\n",
      " 4   Superplasticizer (component 5)(kg in a m^3 mixture)    1030 non-null   float64\n",
      " 5   Coarse Aggregate  (component 6)(kg in a m^3 mixture)   1030 non-null   float64\n",
      " 6   Fine Aggregate (component 7)(kg in a m^3 mixture)      1030 non-null   float64\n",
      " 7   Age (day)                                              1030 non-null   int64  \n",
      " 8   Concrete compressive strength(MPa, megapascals)        1030 non-null   float64\n",
      "dtypes: float64(8), int64(1)\n",
      "memory usage: 72.5 KB\n"
     ]
    }
   ],
   "source": [
    "df.info()"
   ]
  },
  {
   "cell_type": "code",
   "execution_count": 5,
   "id": "e15a509d-9183-4901-9362-3f5d633c5d72",
   "metadata": {},
   "outputs": [
    {
     "data": {
      "text/plain": [
       "Cement (component 1)(kg in a m^3 mixture)                0\n",
       "Blast Furnace Slag (component 2)(kg in a m^3 mixture)    0\n",
       "Fly Ash (component 3)(kg in a m^3 mixture)               0\n",
       "Water  (component 4)(kg in a m^3 mixture)                0\n",
       "Superplasticizer (component 5)(kg in a m^3 mixture)      0\n",
       "Coarse Aggregate  (component 6)(kg in a m^3 mixture)     0\n",
       "Fine Aggregate (component 7)(kg in a m^3 mixture)        0\n",
       "Age (day)                                                0\n",
       "Concrete compressive strength(MPa, megapascals)          0\n",
       "dtype: int64"
      ]
     },
     "execution_count": 5,
     "metadata": {},
     "output_type": "execute_result"
    }
   ],
   "source": [
    "df.isnull().sum()"
   ]
  },
  {
   "cell_type": "markdown",
   "id": "c36f277f-79f4-477b-85b6-e0e8d4905e25",
   "metadata": {},
   "source": [
    "## Seperating the Dependent and independent variables"
   ]
  },
  {
   "cell_type": "code",
   "execution_count": 6,
   "id": "b26c3729-ea2b-444a-bcf4-4629416053be",
   "metadata": {},
   "outputs": [],
   "source": [
    "x = df.iloc[:,:-1]\n",
    "y = df.iloc[:,-1]"
   ]
  },
  {
   "cell_type": "code",
   "execution_count": 7,
   "id": "b321aab6-a5ac-48c2-a475-e1e5565eec46",
   "metadata": {},
   "outputs": [
    {
     "data": {
      "text/html": [
       "<div>\n",
       "<style scoped>\n",
       "    .dataframe tbody tr th:only-of-type {\n",
       "        vertical-align: middle;\n",
       "    }\n",
       "\n",
       "    .dataframe tbody tr th {\n",
       "        vertical-align: top;\n",
       "    }\n",
       "\n",
       "    .dataframe thead th {\n",
       "        text-align: right;\n",
       "    }\n",
       "</style>\n",
       "<table border=\"1\" class=\"dataframe\">\n",
       "  <thead>\n",
       "    <tr style=\"text-align: right;\">\n",
       "      <th></th>\n",
       "      <th>Cement (component 1)(kg in a m^3 mixture)</th>\n",
       "      <th>Blast Furnace Slag (component 2)(kg in a m^3 mixture)</th>\n",
       "      <th>Fly Ash (component 3)(kg in a m^3 mixture)</th>\n",
       "      <th>Water  (component 4)(kg in a m^3 mixture)</th>\n",
       "      <th>Superplasticizer (component 5)(kg in a m^3 mixture)</th>\n",
       "      <th>Coarse Aggregate  (component 6)(kg in a m^3 mixture)</th>\n",
       "      <th>Fine Aggregate (component 7)(kg in a m^3 mixture)</th>\n",
       "      <th>Age (day)</th>\n",
       "    </tr>\n",
       "  </thead>\n",
       "  <tbody>\n",
       "    <tr>\n",
       "      <th>0</th>\n",
       "      <td>540.0</td>\n",
       "      <td>0.0</td>\n",
       "      <td>0.0</td>\n",
       "      <td>162.0</td>\n",
       "      <td>2.5</td>\n",
       "      <td>1040.0</td>\n",
       "      <td>676.0</td>\n",
       "      <td>28</td>\n",
       "    </tr>\n",
       "    <tr>\n",
       "      <th>1</th>\n",
       "      <td>540.0</td>\n",
       "      <td>0.0</td>\n",
       "      <td>0.0</td>\n",
       "      <td>162.0</td>\n",
       "      <td>2.5</td>\n",
       "      <td>1055.0</td>\n",
       "      <td>676.0</td>\n",
       "      <td>28</td>\n",
       "    </tr>\n",
       "    <tr>\n",
       "      <th>2</th>\n",
       "      <td>332.5</td>\n",
       "      <td>142.5</td>\n",
       "      <td>0.0</td>\n",
       "      <td>228.0</td>\n",
       "      <td>0.0</td>\n",
       "      <td>932.0</td>\n",
       "      <td>594.0</td>\n",
       "      <td>270</td>\n",
       "    </tr>\n",
       "    <tr>\n",
       "      <th>3</th>\n",
       "      <td>332.5</td>\n",
       "      <td>142.5</td>\n",
       "      <td>0.0</td>\n",
       "      <td>228.0</td>\n",
       "      <td>0.0</td>\n",
       "      <td>932.0</td>\n",
       "      <td>594.0</td>\n",
       "      <td>365</td>\n",
       "    </tr>\n",
       "    <tr>\n",
       "      <th>4</th>\n",
       "      <td>198.6</td>\n",
       "      <td>132.4</td>\n",
       "      <td>0.0</td>\n",
       "      <td>192.0</td>\n",
       "      <td>0.0</td>\n",
       "      <td>978.4</td>\n",
       "      <td>825.5</td>\n",
       "      <td>360</td>\n",
       "    </tr>\n",
       "    <tr>\n",
       "      <th>...</th>\n",
       "      <td>...</td>\n",
       "      <td>...</td>\n",
       "      <td>...</td>\n",
       "      <td>...</td>\n",
       "      <td>...</td>\n",
       "      <td>...</td>\n",
       "      <td>...</td>\n",
       "      <td>...</td>\n",
       "    </tr>\n",
       "    <tr>\n",
       "      <th>1025</th>\n",
       "      <td>276.4</td>\n",
       "      <td>116.0</td>\n",
       "      <td>90.3</td>\n",
       "      <td>179.6</td>\n",
       "      <td>8.9</td>\n",
       "      <td>870.1</td>\n",
       "      <td>768.3</td>\n",
       "      <td>28</td>\n",
       "    </tr>\n",
       "    <tr>\n",
       "      <th>1026</th>\n",
       "      <td>322.2</td>\n",
       "      <td>0.0</td>\n",
       "      <td>115.6</td>\n",
       "      <td>196.0</td>\n",
       "      <td>10.4</td>\n",
       "      <td>817.9</td>\n",
       "      <td>813.4</td>\n",
       "      <td>28</td>\n",
       "    </tr>\n",
       "    <tr>\n",
       "      <th>1027</th>\n",
       "      <td>148.5</td>\n",
       "      <td>139.4</td>\n",
       "      <td>108.6</td>\n",
       "      <td>192.7</td>\n",
       "      <td>6.1</td>\n",
       "      <td>892.4</td>\n",
       "      <td>780.0</td>\n",
       "      <td>28</td>\n",
       "    </tr>\n",
       "    <tr>\n",
       "      <th>1028</th>\n",
       "      <td>159.1</td>\n",
       "      <td>186.7</td>\n",
       "      <td>0.0</td>\n",
       "      <td>175.6</td>\n",
       "      <td>11.3</td>\n",
       "      <td>989.6</td>\n",
       "      <td>788.9</td>\n",
       "      <td>28</td>\n",
       "    </tr>\n",
       "    <tr>\n",
       "      <th>1029</th>\n",
       "      <td>260.9</td>\n",
       "      <td>100.5</td>\n",
       "      <td>78.3</td>\n",
       "      <td>200.6</td>\n",
       "      <td>8.6</td>\n",
       "      <td>864.5</td>\n",
       "      <td>761.5</td>\n",
       "      <td>28</td>\n",
       "    </tr>\n",
       "  </tbody>\n",
       "</table>\n",
       "<p>1030 rows × 8 columns</p>\n",
       "</div>"
      ],
      "text/plain": [
       "      Cement (component 1)(kg in a m^3 mixture)  \\\n",
       "0                                         540.0   \n",
       "1                                         540.0   \n",
       "2                                         332.5   \n",
       "3                                         332.5   \n",
       "4                                         198.6   \n",
       "...                                         ...   \n",
       "1025                                      276.4   \n",
       "1026                                      322.2   \n",
       "1027                                      148.5   \n",
       "1028                                      159.1   \n",
       "1029                                      260.9   \n",
       "\n",
       "      Blast Furnace Slag (component 2)(kg in a m^3 mixture)  \\\n",
       "0                                                   0.0       \n",
       "1                                                   0.0       \n",
       "2                                                 142.5       \n",
       "3                                                 142.5       \n",
       "4                                                 132.4       \n",
       "...                                                 ...       \n",
       "1025                                              116.0       \n",
       "1026                                                0.0       \n",
       "1027                                              139.4       \n",
       "1028                                              186.7       \n",
       "1029                                              100.5       \n",
       "\n",
       "      Fly Ash (component 3)(kg in a m^3 mixture)  \\\n",
       "0                                            0.0   \n",
       "1                                            0.0   \n",
       "2                                            0.0   \n",
       "3                                            0.0   \n",
       "4                                            0.0   \n",
       "...                                          ...   \n",
       "1025                                        90.3   \n",
       "1026                                       115.6   \n",
       "1027                                       108.6   \n",
       "1028                                         0.0   \n",
       "1029                                        78.3   \n",
       "\n",
       "      Water  (component 4)(kg in a m^3 mixture)  \\\n",
       "0                                         162.0   \n",
       "1                                         162.0   \n",
       "2                                         228.0   \n",
       "3                                         228.0   \n",
       "4                                         192.0   \n",
       "...                                         ...   \n",
       "1025                                      179.6   \n",
       "1026                                      196.0   \n",
       "1027                                      192.7   \n",
       "1028                                      175.6   \n",
       "1029                                      200.6   \n",
       "\n",
       "      Superplasticizer (component 5)(kg in a m^3 mixture)  \\\n",
       "0                                                   2.5     \n",
       "1                                                   2.5     \n",
       "2                                                   0.0     \n",
       "3                                                   0.0     \n",
       "4                                                   0.0     \n",
       "...                                                 ...     \n",
       "1025                                                8.9     \n",
       "1026                                               10.4     \n",
       "1027                                                6.1     \n",
       "1028                                               11.3     \n",
       "1029                                                8.6     \n",
       "\n",
       "      Coarse Aggregate  (component 6)(kg in a m^3 mixture)  \\\n",
       "0                                                1040.0      \n",
       "1                                                1055.0      \n",
       "2                                                 932.0      \n",
       "3                                                 932.0      \n",
       "4                                                 978.4      \n",
       "...                                                 ...      \n",
       "1025                                              870.1      \n",
       "1026                                              817.9      \n",
       "1027                                              892.4      \n",
       "1028                                              989.6      \n",
       "1029                                              864.5      \n",
       "\n",
       "      Fine Aggregate (component 7)(kg in a m^3 mixture)  Age (day)  \n",
       "0                                                 676.0         28  \n",
       "1                                                 676.0         28  \n",
       "2                                                 594.0        270  \n",
       "3                                                 594.0        365  \n",
       "4                                                 825.5        360  \n",
       "...                                                 ...        ...  \n",
       "1025                                              768.3         28  \n",
       "1026                                              813.4         28  \n",
       "1027                                              780.0         28  \n",
       "1028                                              788.9         28  \n",
       "1029                                              761.5         28  \n",
       "\n",
       "[1030 rows x 8 columns]"
      ]
     },
     "execution_count": 7,
     "metadata": {},
     "output_type": "execute_result"
    }
   ],
   "source": [
    "x"
   ]
  },
  {
   "cell_type": "code",
   "execution_count": 8,
   "id": "88621015-90c4-40d0-89d4-98247a14cb2a",
   "metadata": {},
   "outputs": [
    {
     "data": {
      "text/plain": [
       "0       79.99\n",
       "1       61.89\n",
       "2       40.27\n",
       "3       41.05\n",
       "4       44.30\n",
       "        ...  \n",
       "1025    44.28\n",
       "1026    31.18\n",
       "1027    23.70\n",
       "1028    32.77\n",
       "1029    32.40\n",
       "Name: Concrete compressive strength(MPa, megapascals) , Length: 1030, dtype: float64"
      ]
     },
     "execution_count": 8,
     "metadata": {},
     "output_type": "execute_result"
    }
   ],
   "source": [
    "y"
   ]
  },
  {
   "cell_type": "markdown",
   "id": "842f441f-6f81-4a5d-97c6-98074c3b842a",
   "metadata": {},
   "source": [
    "### To prepare the data for least square method, we need to add a column with '1' value"
   ]
  },
  {
   "cell_type": "code",
   "execution_count": 9,
   "id": "70f1de0a-8be5-41d9-a284-72d262b69f73",
   "metadata": {},
   "outputs": [],
   "source": [
    "x.insert(0,'one',1)"
   ]
  },
  {
   "cell_type": "code",
   "execution_count": 10,
   "id": "eceff3ae-93b4-403c-8c16-92967cb301ed",
   "metadata": {},
   "outputs": [
    {
     "data": {
      "text/html": [
       "<div>\n",
       "<style scoped>\n",
       "    .dataframe tbody tr th:only-of-type {\n",
       "        vertical-align: middle;\n",
       "    }\n",
       "\n",
       "    .dataframe tbody tr th {\n",
       "        vertical-align: top;\n",
       "    }\n",
       "\n",
       "    .dataframe thead th {\n",
       "        text-align: right;\n",
       "    }\n",
       "</style>\n",
       "<table border=\"1\" class=\"dataframe\">\n",
       "  <thead>\n",
       "    <tr style=\"text-align: right;\">\n",
       "      <th></th>\n",
       "      <th>one</th>\n",
       "      <th>Cement (component 1)(kg in a m^3 mixture)</th>\n",
       "      <th>Blast Furnace Slag (component 2)(kg in a m^3 mixture)</th>\n",
       "      <th>Fly Ash (component 3)(kg in a m^3 mixture)</th>\n",
       "      <th>Water  (component 4)(kg in a m^3 mixture)</th>\n",
       "      <th>Superplasticizer (component 5)(kg in a m^3 mixture)</th>\n",
       "      <th>Coarse Aggregate  (component 6)(kg in a m^3 mixture)</th>\n",
       "      <th>Fine Aggregate (component 7)(kg in a m^3 mixture)</th>\n",
       "      <th>Age (day)</th>\n",
       "    </tr>\n",
       "  </thead>\n",
       "  <tbody>\n",
       "    <tr>\n",
       "      <th>0</th>\n",
       "      <td>1</td>\n",
       "      <td>540.0</td>\n",
       "      <td>0.0</td>\n",
       "      <td>0.0</td>\n",
       "      <td>162.0</td>\n",
       "      <td>2.5</td>\n",
       "      <td>1040.0</td>\n",
       "      <td>676.0</td>\n",
       "      <td>28</td>\n",
       "    </tr>\n",
       "    <tr>\n",
       "      <th>1</th>\n",
       "      <td>1</td>\n",
       "      <td>540.0</td>\n",
       "      <td>0.0</td>\n",
       "      <td>0.0</td>\n",
       "      <td>162.0</td>\n",
       "      <td>2.5</td>\n",
       "      <td>1055.0</td>\n",
       "      <td>676.0</td>\n",
       "      <td>28</td>\n",
       "    </tr>\n",
       "    <tr>\n",
       "      <th>2</th>\n",
       "      <td>1</td>\n",
       "      <td>332.5</td>\n",
       "      <td>142.5</td>\n",
       "      <td>0.0</td>\n",
       "      <td>228.0</td>\n",
       "      <td>0.0</td>\n",
       "      <td>932.0</td>\n",
       "      <td>594.0</td>\n",
       "      <td>270</td>\n",
       "    </tr>\n",
       "    <tr>\n",
       "      <th>3</th>\n",
       "      <td>1</td>\n",
       "      <td>332.5</td>\n",
       "      <td>142.5</td>\n",
       "      <td>0.0</td>\n",
       "      <td>228.0</td>\n",
       "      <td>0.0</td>\n",
       "      <td>932.0</td>\n",
       "      <td>594.0</td>\n",
       "      <td>365</td>\n",
       "    </tr>\n",
       "    <tr>\n",
       "      <th>4</th>\n",
       "      <td>1</td>\n",
       "      <td>198.6</td>\n",
       "      <td>132.4</td>\n",
       "      <td>0.0</td>\n",
       "      <td>192.0</td>\n",
       "      <td>0.0</td>\n",
       "      <td>978.4</td>\n",
       "      <td>825.5</td>\n",
       "      <td>360</td>\n",
       "    </tr>\n",
       "    <tr>\n",
       "      <th>...</th>\n",
       "      <td>...</td>\n",
       "      <td>...</td>\n",
       "      <td>...</td>\n",
       "      <td>...</td>\n",
       "      <td>...</td>\n",
       "      <td>...</td>\n",
       "      <td>...</td>\n",
       "      <td>...</td>\n",
       "      <td>...</td>\n",
       "    </tr>\n",
       "    <tr>\n",
       "      <th>1025</th>\n",
       "      <td>1</td>\n",
       "      <td>276.4</td>\n",
       "      <td>116.0</td>\n",
       "      <td>90.3</td>\n",
       "      <td>179.6</td>\n",
       "      <td>8.9</td>\n",
       "      <td>870.1</td>\n",
       "      <td>768.3</td>\n",
       "      <td>28</td>\n",
       "    </tr>\n",
       "    <tr>\n",
       "      <th>1026</th>\n",
       "      <td>1</td>\n",
       "      <td>322.2</td>\n",
       "      <td>0.0</td>\n",
       "      <td>115.6</td>\n",
       "      <td>196.0</td>\n",
       "      <td>10.4</td>\n",
       "      <td>817.9</td>\n",
       "      <td>813.4</td>\n",
       "      <td>28</td>\n",
       "    </tr>\n",
       "    <tr>\n",
       "      <th>1027</th>\n",
       "      <td>1</td>\n",
       "      <td>148.5</td>\n",
       "      <td>139.4</td>\n",
       "      <td>108.6</td>\n",
       "      <td>192.7</td>\n",
       "      <td>6.1</td>\n",
       "      <td>892.4</td>\n",
       "      <td>780.0</td>\n",
       "      <td>28</td>\n",
       "    </tr>\n",
       "    <tr>\n",
       "      <th>1028</th>\n",
       "      <td>1</td>\n",
       "      <td>159.1</td>\n",
       "      <td>186.7</td>\n",
       "      <td>0.0</td>\n",
       "      <td>175.6</td>\n",
       "      <td>11.3</td>\n",
       "      <td>989.6</td>\n",
       "      <td>788.9</td>\n",
       "      <td>28</td>\n",
       "    </tr>\n",
       "    <tr>\n",
       "      <th>1029</th>\n",
       "      <td>1</td>\n",
       "      <td>260.9</td>\n",
       "      <td>100.5</td>\n",
       "      <td>78.3</td>\n",
       "      <td>200.6</td>\n",
       "      <td>8.6</td>\n",
       "      <td>864.5</td>\n",
       "      <td>761.5</td>\n",
       "      <td>28</td>\n",
       "    </tr>\n",
       "  </tbody>\n",
       "</table>\n",
       "<p>1030 rows × 9 columns</p>\n",
       "</div>"
      ],
      "text/plain": [
       "      one  Cement (component 1)(kg in a m^3 mixture)  \\\n",
       "0       1                                      540.0   \n",
       "1       1                                      540.0   \n",
       "2       1                                      332.5   \n",
       "3       1                                      332.5   \n",
       "4       1                                      198.6   \n",
       "...   ...                                        ...   \n",
       "1025    1                                      276.4   \n",
       "1026    1                                      322.2   \n",
       "1027    1                                      148.5   \n",
       "1028    1                                      159.1   \n",
       "1029    1                                      260.9   \n",
       "\n",
       "      Blast Furnace Slag (component 2)(kg in a m^3 mixture)  \\\n",
       "0                                                   0.0       \n",
       "1                                                   0.0       \n",
       "2                                                 142.5       \n",
       "3                                                 142.5       \n",
       "4                                                 132.4       \n",
       "...                                                 ...       \n",
       "1025                                              116.0       \n",
       "1026                                                0.0       \n",
       "1027                                              139.4       \n",
       "1028                                              186.7       \n",
       "1029                                              100.5       \n",
       "\n",
       "      Fly Ash (component 3)(kg in a m^3 mixture)  \\\n",
       "0                                            0.0   \n",
       "1                                            0.0   \n",
       "2                                            0.0   \n",
       "3                                            0.0   \n",
       "4                                            0.0   \n",
       "...                                          ...   \n",
       "1025                                        90.3   \n",
       "1026                                       115.6   \n",
       "1027                                       108.6   \n",
       "1028                                         0.0   \n",
       "1029                                        78.3   \n",
       "\n",
       "      Water  (component 4)(kg in a m^3 mixture)  \\\n",
       "0                                         162.0   \n",
       "1                                         162.0   \n",
       "2                                         228.0   \n",
       "3                                         228.0   \n",
       "4                                         192.0   \n",
       "...                                         ...   \n",
       "1025                                      179.6   \n",
       "1026                                      196.0   \n",
       "1027                                      192.7   \n",
       "1028                                      175.6   \n",
       "1029                                      200.6   \n",
       "\n",
       "      Superplasticizer (component 5)(kg in a m^3 mixture)  \\\n",
       "0                                                   2.5     \n",
       "1                                                   2.5     \n",
       "2                                                   0.0     \n",
       "3                                                   0.0     \n",
       "4                                                   0.0     \n",
       "...                                                 ...     \n",
       "1025                                                8.9     \n",
       "1026                                               10.4     \n",
       "1027                                                6.1     \n",
       "1028                                               11.3     \n",
       "1029                                                8.6     \n",
       "\n",
       "      Coarse Aggregate  (component 6)(kg in a m^3 mixture)  \\\n",
       "0                                                1040.0      \n",
       "1                                                1055.0      \n",
       "2                                                 932.0      \n",
       "3                                                 932.0      \n",
       "4                                                 978.4      \n",
       "...                                                 ...      \n",
       "1025                                              870.1      \n",
       "1026                                              817.9      \n",
       "1027                                              892.4      \n",
       "1028                                              989.6      \n",
       "1029                                              864.5      \n",
       "\n",
       "      Fine Aggregate (component 7)(kg in a m^3 mixture)  Age (day)  \n",
       "0                                                 676.0         28  \n",
       "1                                                 676.0         28  \n",
       "2                                                 594.0        270  \n",
       "3                                                 594.0        365  \n",
       "4                                                 825.5        360  \n",
       "...                                                 ...        ...  \n",
       "1025                                              768.3         28  \n",
       "1026                                              813.4         28  \n",
       "1027                                              780.0         28  \n",
       "1028                                              788.9         28  \n",
       "1029                                              761.5         28  \n",
       "\n",
       "[1030 rows x 9 columns]"
      ]
     },
     "execution_count": 10,
     "metadata": {},
     "output_type": "execute_result"
    }
   ],
   "source": [
    "x"
   ]
  },
  {
   "cell_type": "markdown",
   "id": "5a676a4b-609a-4b21-82a8-a52be1579cd1",
   "metadata": {},
   "source": [
    "## Split data for training and testing"
   ]
  },
  {
   "cell_type": "code",
   "execution_count": 11,
   "id": "57016399-9b1b-4c8b-a5c1-8f3a13af5b70",
   "metadata": {},
   "outputs": [],
   "source": [
    "from sklearn.model_selection import train_test_split"
   ]
  },
  {
   "cell_type": "code",
   "execution_count": 12,
   "id": "89107dcc-373a-4106-9139-0c18c4a99c86",
   "metadata": {},
   "outputs": [],
   "source": [
    "x_train, x_test, y_train,y_test = train_test_split(x,y,test_size = 0.3)"
   ]
  },
  {
   "cell_type": "code",
   "execution_count": 13,
   "id": "db125af2-3d3b-434d-b6e0-39bd86a7c7c1",
   "metadata": {},
   "outputs": [
    {
     "data": {
      "text/html": [
       "<div>\n",
       "<style scoped>\n",
       "    .dataframe tbody tr th:only-of-type {\n",
       "        vertical-align: middle;\n",
       "    }\n",
       "\n",
       "    .dataframe tbody tr th {\n",
       "        vertical-align: top;\n",
       "    }\n",
       "\n",
       "    .dataframe thead th {\n",
       "        text-align: right;\n",
       "    }\n",
       "</style>\n",
       "<table border=\"1\" class=\"dataframe\">\n",
       "  <thead>\n",
       "    <tr style=\"text-align: right;\">\n",
       "      <th></th>\n",
       "      <th>one</th>\n",
       "      <th>Cement (component 1)(kg in a m^3 mixture)</th>\n",
       "      <th>Blast Furnace Slag (component 2)(kg in a m^3 mixture)</th>\n",
       "      <th>Fly Ash (component 3)(kg in a m^3 mixture)</th>\n",
       "      <th>Water  (component 4)(kg in a m^3 mixture)</th>\n",
       "      <th>Superplasticizer (component 5)(kg in a m^3 mixture)</th>\n",
       "      <th>Coarse Aggregate  (component 6)(kg in a m^3 mixture)</th>\n",
       "      <th>Fine Aggregate (component 7)(kg in a m^3 mixture)</th>\n",
       "      <th>Age (day)</th>\n",
       "    </tr>\n",
       "  </thead>\n",
       "  <tbody>\n",
       "    <tr>\n",
       "      <th>703</th>\n",
       "      <td>1</td>\n",
       "      <td>200.0</td>\n",
       "      <td>133.0</td>\n",
       "      <td>0.0</td>\n",
       "      <td>192.0</td>\n",
       "      <td>0.0</td>\n",
       "      <td>965.4</td>\n",
       "      <td>806.2</td>\n",
       "      <td>28</td>\n",
       "    </tr>\n",
       "    <tr>\n",
       "      <th>475</th>\n",
       "      <td>1</td>\n",
       "      <td>446.0</td>\n",
       "      <td>24.0</td>\n",
       "      <td>79.0</td>\n",
       "      <td>162.0</td>\n",
       "      <td>11.6</td>\n",
       "      <td>967.0</td>\n",
       "      <td>712.0</td>\n",
       "      <td>3</td>\n",
       "    </tr>\n",
       "    <tr>\n",
       "      <th>451</th>\n",
       "      <td>1</td>\n",
       "      <td>167.0</td>\n",
       "      <td>75.4</td>\n",
       "      <td>167.0</td>\n",
       "      <td>164.0</td>\n",
       "      <td>7.9</td>\n",
       "      <td>1007.3</td>\n",
       "      <td>770.1</td>\n",
       "      <td>56</td>\n",
       "    </tr>\n",
       "    <tr>\n",
       "      <th>1022</th>\n",
       "      <td>1</td>\n",
       "      <td>264.5</td>\n",
       "      <td>111.0</td>\n",
       "      <td>86.5</td>\n",
       "      <td>195.5</td>\n",
       "      <td>5.9</td>\n",
       "      <td>832.6</td>\n",
       "      <td>790.4</td>\n",
       "      <td>28</td>\n",
       "    </tr>\n",
       "    <tr>\n",
       "      <th>115</th>\n",
       "      <td>1</td>\n",
       "      <td>337.9</td>\n",
       "      <td>189.0</td>\n",
       "      <td>0.0</td>\n",
       "      <td>174.9</td>\n",
       "      <td>9.5</td>\n",
       "      <td>944.7</td>\n",
       "      <td>755.8</td>\n",
       "      <td>7</td>\n",
       "    </tr>\n",
       "    <tr>\n",
       "      <th>...</th>\n",
       "      <td>...</td>\n",
       "      <td>...</td>\n",
       "      <td>...</td>\n",
       "      <td>...</td>\n",
       "      <td>...</td>\n",
       "      <td>...</td>\n",
       "      <td>...</td>\n",
       "      <td>...</td>\n",
       "      <td>...</td>\n",
       "    </tr>\n",
       "    <tr>\n",
       "      <th>684</th>\n",
       "      <td>1</td>\n",
       "      <td>192.0</td>\n",
       "      <td>288.0</td>\n",
       "      <td>0.0</td>\n",
       "      <td>192.0</td>\n",
       "      <td>0.0</td>\n",
       "      <td>929.8</td>\n",
       "      <td>716.1</td>\n",
       "      <td>90</td>\n",
       "    </tr>\n",
       "    <tr>\n",
       "      <th>547</th>\n",
       "      <td>1</td>\n",
       "      <td>333.0</td>\n",
       "      <td>0.0</td>\n",
       "      <td>0.0</td>\n",
       "      <td>192.0</td>\n",
       "      <td>0.0</td>\n",
       "      <td>931.2</td>\n",
       "      <td>842.6</td>\n",
       "      <td>7</td>\n",
       "    </tr>\n",
       "    <tr>\n",
       "      <th>632</th>\n",
       "      <td>1</td>\n",
       "      <td>325.0</td>\n",
       "      <td>0.0</td>\n",
       "      <td>0.0</td>\n",
       "      <td>184.0</td>\n",
       "      <td>0.0</td>\n",
       "      <td>1063.0</td>\n",
       "      <td>783.0</td>\n",
       "      <td>28</td>\n",
       "    </tr>\n",
       "    <tr>\n",
       "      <th>717</th>\n",
       "      <td>1</td>\n",
       "      <td>141.3</td>\n",
       "      <td>212.0</td>\n",
       "      <td>0.0</td>\n",
       "      <td>203.5</td>\n",
       "      <td>0.0</td>\n",
       "      <td>971.8</td>\n",
       "      <td>748.5</td>\n",
       "      <td>3</td>\n",
       "    </tr>\n",
       "    <tr>\n",
       "      <th>522</th>\n",
       "      <td>1</td>\n",
       "      <td>284.0</td>\n",
       "      <td>15.0</td>\n",
       "      <td>141.0</td>\n",
       "      <td>179.0</td>\n",
       "      <td>5.5</td>\n",
       "      <td>842.0</td>\n",
       "      <td>801.0</td>\n",
       "      <td>56</td>\n",
       "    </tr>\n",
       "  </tbody>\n",
       "</table>\n",
       "<p>721 rows × 9 columns</p>\n",
       "</div>"
      ],
      "text/plain": [
       "      one  Cement (component 1)(kg in a m^3 mixture)  \\\n",
       "703     1                                      200.0   \n",
       "475     1                                      446.0   \n",
       "451     1                                      167.0   \n",
       "1022    1                                      264.5   \n",
       "115     1                                      337.9   \n",
       "...   ...                                        ...   \n",
       "684     1                                      192.0   \n",
       "547     1                                      333.0   \n",
       "632     1                                      325.0   \n",
       "717     1                                      141.3   \n",
       "522     1                                      284.0   \n",
       "\n",
       "      Blast Furnace Slag (component 2)(kg in a m^3 mixture)  \\\n",
       "703                                               133.0       \n",
       "475                                                24.0       \n",
       "451                                                75.4       \n",
       "1022                                              111.0       \n",
       "115                                               189.0       \n",
       "...                                                 ...       \n",
       "684                                               288.0       \n",
       "547                                                 0.0       \n",
       "632                                                 0.0       \n",
       "717                                               212.0       \n",
       "522                                                15.0       \n",
       "\n",
       "      Fly Ash (component 3)(kg in a m^3 mixture)  \\\n",
       "703                                          0.0   \n",
       "475                                         79.0   \n",
       "451                                        167.0   \n",
       "1022                                        86.5   \n",
       "115                                          0.0   \n",
       "...                                          ...   \n",
       "684                                          0.0   \n",
       "547                                          0.0   \n",
       "632                                          0.0   \n",
       "717                                          0.0   \n",
       "522                                        141.0   \n",
       "\n",
       "      Water  (component 4)(kg in a m^3 mixture)  \\\n",
       "703                                       192.0   \n",
       "475                                       162.0   \n",
       "451                                       164.0   \n",
       "1022                                      195.5   \n",
       "115                                       174.9   \n",
       "...                                         ...   \n",
       "684                                       192.0   \n",
       "547                                       192.0   \n",
       "632                                       184.0   \n",
       "717                                       203.5   \n",
       "522                                       179.0   \n",
       "\n",
       "      Superplasticizer (component 5)(kg in a m^3 mixture)  \\\n",
       "703                                                 0.0     \n",
       "475                                                11.6     \n",
       "451                                                 7.9     \n",
       "1022                                                5.9     \n",
       "115                                                 9.5     \n",
       "...                                                 ...     \n",
       "684                                                 0.0     \n",
       "547                                                 0.0     \n",
       "632                                                 0.0     \n",
       "717                                                 0.0     \n",
       "522                                                 5.5     \n",
       "\n",
       "      Coarse Aggregate  (component 6)(kg in a m^3 mixture)  \\\n",
       "703                                               965.4      \n",
       "475                                               967.0      \n",
       "451                                              1007.3      \n",
       "1022                                              832.6      \n",
       "115                                               944.7      \n",
       "...                                                 ...      \n",
       "684                                               929.8      \n",
       "547                                               931.2      \n",
       "632                                              1063.0      \n",
       "717                                               971.8      \n",
       "522                                               842.0      \n",
       "\n",
       "      Fine Aggregate (component 7)(kg in a m^3 mixture)  Age (day)  \n",
       "703                                               806.2         28  \n",
       "475                                               712.0          3  \n",
       "451                                               770.1         56  \n",
       "1022                                              790.4         28  \n",
       "115                                               755.8          7  \n",
       "...                                                 ...        ...  \n",
       "684                                               716.1         90  \n",
       "547                                               842.6          7  \n",
       "632                                               783.0         28  \n",
       "717                                               748.5          3  \n",
       "522                                               801.0         56  \n",
       "\n",
       "[721 rows x 9 columns]"
      ]
     },
     "execution_count": 13,
     "metadata": {},
     "output_type": "execute_result"
    }
   ],
   "source": [
    "x_train"
   ]
  },
  {
   "cell_type": "markdown",
   "id": "ae6a7891-6fc1-49eb-8530-dfe216395cad",
   "metadata": {},
   "source": [
    "## Linear regression using least square method Y=b0.x+E and Q=[x^Tx].[x^T.Y]\n"
   ]
  },
  {
   "cell_type": "code",
   "execution_count": 14,
   "id": "01e56941-0528-4d12-879f-caf90b97d0e6",
   "metadata": {},
   "outputs": [],
   "source": [
    "x_t = np.transpose(x_train)"
   ]
  },
  {
   "cell_type": "code",
   "execution_count": 15,
   "id": "1764db0c-3e46-4ba9-bf3a-0671fb510256",
   "metadata": {},
   "outputs": [],
   "source": [
    "x_sqr = np.dot(x_t,x_train)"
   ]
  },
  {
   "cell_type": "code",
   "execution_count": 16,
   "id": "51d78b04-959d-4d22-9db0-0c6148549c16",
   "metadata": {},
   "outputs": [],
   "source": [
    "xt_y = np.dot(x_t,y_train)"
   ]
  },
  {
   "cell_type": "code",
   "execution_count": 17,
   "id": "9dc2e58c-ede6-405d-ba57-b9211a8b1696",
   "metadata": {},
   "outputs": [],
   "source": [
    "xsqr_inv = np.linalg.inv(x_sqr)"
   ]
  },
  {
   "cell_type": "code",
   "execution_count": 18,
   "id": "5f62bc20-03d2-4fb8-a68f-cb48ca0760fc",
   "metadata": {},
   "outputs": [],
   "source": [
    "para = np.dot(xsqr_inv,xt_y)"
   ]
  },
  {
   "cell_type": "code",
   "execution_count": 19,
   "id": "60ad5d72-6919-4370-895a-82f7d306e21a",
   "metadata": {},
   "outputs": [
    {
     "data": {
      "text/plain": [
       "array([-1.67685330e+01,  1.28765986e-01,  1.09939214e-01,  1.00751921e-01,\n",
       "       -1.74391363e-01,  1.18042350e-01,  1.56318302e-02,  1.79104160e-02,\n",
       "        1.09242833e-01])"
      ]
     },
     "execution_count": 19,
     "metadata": {},
     "output_type": "execute_result"
    }
   ],
   "source": [
    "para"
   ]
  },
  {
   "cell_type": "markdown",
   "id": "fb00ac74-d43c-4707-a78a-693739eb7520",
   "metadata": {},
   "source": [
    "#### Predicting the target values using the trained model"
   ]
  },
  {
   "cell_type": "code",
   "execution_count": 20,
   "id": "455ef35a-c0f9-4e97-9681-82793afb1dac",
   "metadata": {},
   "outputs": [],
   "source": [
    "y_pred = np.dot(x_test,para)"
   ]
  },
  {
   "cell_type": "code",
   "execution_count": 21,
   "id": "a9fb0678-0109-423f-be92-b42054424a60",
   "metadata": {},
   "outputs": [
    {
     "data": {
      "text/plain": [
       "array([32.04920768,  9.74176413, 32.26745522, 35.45930062, 16.32998963,\n",
       "       35.84308717, 23.11130919, 40.38575048, 34.78132739, 33.25087883,\n",
       "       34.39118236, 43.12750832, 47.716899  , 25.51249283, 34.25871279,\n",
       "       20.27205589, 43.40651695, 23.97983241, 54.79000775, 36.65026791,\n",
       "       39.62014307, 29.48563922, 18.86281793, 32.05181405, 54.9564869 ,\n",
       "       34.61911204, 43.77974875, 26.15574349, 31.11198845, 22.7800095 ,\n",
       "       57.83933861, 36.09188225, 57.38522812, 13.72128055, 32.35196564,\n",
       "       31.87502191, 29.53336105, 16.11469891, 31.16898226, 36.94332031,\n",
       "       31.5625257 , 43.85643113, 53.94074438, 45.39085868, 22.49736644,\n",
       "       17.5832222 , 22.76161832, 21.97541279, 61.55786067, 49.58286935,\n",
       "       37.99484912, 63.97148436, 55.30392538, 25.38644378, 29.7577676 ,\n",
       "       50.55473492, 40.38899995, 29.97464275, 33.55980791, 30.71706615,\n",
       "       12.30004476, 29.11176514, 55.0059625 , 22.8338314 , 37.69331387,\n",
       "       41.62880988, 51.05567341, 19.15412459, 31.1424066 , 25.88567748,\n",
       "       30.62958983, 28.2212797 , 36.14788014, 36.25844102, 27.20062539,\n",
       "       23.76478717, 33.82174146, 53.0098259 , 49.55637116, 31.45429629,\n",
       "       42.35328253, 32.19437279, 19.10768959, 36.20608409, 34.34004568,\n",
       "       20.20326696, 22.76879027, 20.48591001, 41.58106504, 22.25965428,\n",
       "       51.89768758, 50.83953201, 13.896455  , 44.47070294, 33.87700428,\n",
       "       21.26634045, 44.38487847, 21.44822408, 33.7883237 , 61.76130956,\n",
       "       31.81861024, 58.3627247 , 30.66497313, 41.41032421, 39.31724034,\n",
       "       32.05841945, 35.4724729 , 29.90027331, 17.88562216, 23.73265787,\n",
       "       26.4490935 , 35.59260983, 24.8397197 , 20.41848411, 22.89441596,\n",
       "       44.35988069, 25.48693496, 16.91145313, 30.87221634, 23.40963774,\n",
       "       22.91325953, 32.01114244, 37.65889498, 54.35811509, 19.62854518,\n",
       "       26.83191045, 28.81622259, 54.67556222, 25.91004456, 33.15967078,\n",
       "       61.68924948, 17.51843456, 33.45997834, 30.25524833, 55.38479646,\n",
       "       34.50076679, 12.32456674, 30.89690459, 50.88709473, 23.74349092,\n",
       "       17.49087685, 29.95945063, 32.6444031 , 39.6640183 , 56.46662587,\n",
       "       64.40337702, 43.78471924, 52.57285457, 57.54875394, 33.87414817,\n",
       "       25.49268913, 38.22335186, 46.87334901, 31.94265263, 23.87504953,\n",
       "       55.00531711, 51.90889416, 24.17895816, 36.96480512, 31.20200183,\n",
       "       21.58386051, 36.48761331, 30.75989991, 60.89118908, 32.08751239,\n",
       "       25.91934429, 19.29335855, 52.1790344 , 26.47456174, 30.18269336,\n",
       "       31.60440329, 20.59812007, 32.26574476, 26.79371188, 16.12491438,\n",
       "       39.57819383, 26.56209551, 49.50544231, 38.48241543, 39.71621974,\n",
       "       54.56899117, 38.77931572, 26.25467578, 26.01212217, 54.90926996,\n",
       "       28.63165432, 23.17708395, 64.54494012, 51.13293632, 40.32901944,\n",
       "       24.39759274, 29.24481631, 41.48879645, 20.40661646, 55.37273947,\n",
       "       59.37992961, 48.93265651, 20.81720971, 24.04712982, 34.83702013,\n",
       "       45.03408405, 31.96105439, 59.7306145 , 28.81788897, 19.85582963,\n",
       "       34.56445223, 11.70973629, 28.49620024, 29.96882829, 45.59843755,\n",
       "       26.34549384, 58.20926964, 27.44874395, 62.73194996, 24.62256866,\n",
       "       30.52469498, 50.74509813, 36.09149915, 46.31946824, 28.33866167,\n",
       "       25.88341912, 51.94449141, 52.3928365 , 37.42878002, 55.37273947,\n",
       "       58.3627247 , 35.21654297, 18.45186811, 21.21406713, 24.18477263,\n",
       "       36.68211181, 51.94449141, 28.54877526, 13.3836281 , 60.43785047,\n",
       "       26.07471541, 19.11262186, 40.75211318, 56.38553826, 57.73436153,\n",
       "       27.67338582, 26.62333333, 67.92682303, 21.89149784, 28.42917349,\n",
       "       52.38146274, 29.12389363, 33.82612864, 52.35884915, 20.3758029 ,\n",
       "       25.49494439, 42.1720711 , 28.90300314, 26.33896074, 51.4880161 ,\n",
       "       58.12837198, 37.91844795, 36.58485147, 32.15670947, 13.37312871,\n",
       "       24.40197127, 32.30814314, 39.0497465 , 32.97136713, 30.17674132,\n",
       "       27.103733  , 59.28385293, 28.54573428, 52.81064685, 52.51285154,\n",
       "       22.71852872, 41.66780031, 38.44367096, 26.58078329, 25.44673717,\n",
       "       47.75030288, 17.22805961, 38.37487383, 70.76860993, 52.61600573,\n",
       "       22.88775453, 54.7805393 , 41.11241747, 25.88971539, 19.28976102,\n",
       "       28.03935754, 47.96793567, 31.02895959, 51.68603383, 47.83697352,\n",
       "       34.46937082, 10.17873546, 31.31623161, 17.15799121, 28.82085311,\n",
       "       22.60280396, 50.01984068, 34.96224305, 23.04562828, 51.42873829,\n",
       "       33.3622391 , 51.94449141, 54.91010521, 57.30006198, 31.83594538,\n",
       "       17.84268342, 47.75233355, 55.30392538, 51.85047064])"
      ]
     },
     "execution_count": 21,
     "metadata": {},
     "output_type": "execute_result"
    }
   ],
   "source": [
    "y_pred"
   ]
  },
  {
   "cell_type": "markdown",
   "id": "e7a45a1f-17a9-4207-a491-afb2b83a2e02",
   "metadata": {},
   "source": [
    "### Checking the R2 Score"
   ]
  },
  {
   "cell_type": "code",
   "execution_count": 22,
   "id": "5893ea92-1131-44ac-8cae-31b1a0fc2444",
   "metadata": {},
   "outputs": [],
   "source": [
    "from sklearn.metrics import r2_score"
   ]
  },
  {
   "cell_type": "code",
   "execution_count": 23,
   "id": "b5410551-45ad-4cd7-b0d4-d5ccce93cf69",
   "metadata": {},
   "outputs": [],
   "source": [
    "score = r2_score(y_test,y_pred)"
   ]
  },
  {
   "cell_type": "code",
   "execution_count": 24,
   "id": "992e0a62-8118-4d05-a07f-ba950f596e08",
   "metadata": {},
   "outputs": [
    {
     "data": {
      "text/plain": [
       "0.5677301346161898"
      ]
     },
     "execution_count": 24,
     "metadata": {},
     "output_type": "execute_result"
    }
   ],
   "source": [
    "score"
   ]
  },
  {
   "cell_type": "markdown",
   "id": "f71fd6ed-783d-468a-a78e-6800d0beea21",
   "metadata": {},
   "source": [
    "## Linear regression using gradient descent method"
   ]
  },
  {
   "cell_type": "markdown",
   "id": "b65078cf-7cfb-446c-9cb6-1fbb6bcf515c",
   "metadata": {},
   "source": [
    "### Standardizing the dependent variable dataset"
   ]
  },
  {
   "cell_type": "code",
   "execution_count": 25,
   "id": "fd42f541-49be-49b6-9da7-1fa97729e235",
   "metadata": {},
   "outputs": [],
   "source": [
    "from sklearn.preprocessing import StandardScaler\n",
    "scaler = StandardScaler()"
   ]
  },
  {
   "cell_type": "code",
   "execution_count": 26,
   "id": "f835cc8d-5793-4685-bad5-bc2d28ab030b",
   "metadata": {},
   "outputs": [
    {
     "data": {
      "text/html": [
       "<style>#sk-container-id-1 {color: black;background-color: white;}#sk-container-id-1 pre{padding: 0;}#sk-container-id-1 div.sk-toggleable {background-color: white;}#sk-container-id-1 label.sk-toggleable__label {cursor: pointer;display: block;width: 100%;margin-bottom: 0;padding: 0.3em;box-sizing: border-box;text-align: center;}#sk-container-id-1 label.sk-toggleable__label-arrow:before {content: \"▸\";float: left;margin-right: 0.25em;color: #696969;}#sk-container-id-1 label.sk-toggleable__label-arrow:hover:before {color: black;}#sk-container-id-1 div.sk-estimator:hover label.sk-toggleable__label-arrow:before {color: black;}#sk-container-id-1 div.sk-toggleable__content {max-height: 0;max-width: 0;overflow: hidden;text-align: left;background-color: #f0f8ff;}#sk-container-id-1 div.sk-toggleable__content pre {margin: 0.2em;color: black;border-radius: 0.25em;background-color: #f0f8ff;}#sk-container-id-1 input.sk-toggleable__control:checked~div.sk-toggleable__content {max-height: 200px;max-width: 100%;overflow: auto;}#sk-container-id-1 input.sk-toggleable__control:checked~label.sk-toggleable__label-arrow:before {content: \"▾\";}#sk-container-id-1 div.sk-estimator input.sk-toggleable__control:checked~label.sk-toggleable__label {background-color: #d4ebff;}#sk-container-id-1 div.sk-label input.sk-toggleable__control:checked~label.sk-toggleable__label {background-color: #d4ebff;}#sk-container-id-1 input.sk-hidden--visually {border: 0;clip: rect(1px 1px 1px 1px);clip: rect(1px, 1px, 1px, 1px);height: 1px;margin: -1px;overflow: hidden;padding: 0;position: absolute;width: 1px;}#sk-container-id-1 div.sk-estimator {font-family: monospace;background-color: #f0f8ff;border: 1px dotted black;border-radius: 0.25em;box-sizing: border-box;margin-bottom: 0.5em;}#sk-container-id-1 div.sk-estimator:hover {background-color: #d4ebff;}#sk-container-id-1 div.sk-parallel-item::after {content: \"\";width: 100%;border-bottom: 1px solid gray;flex-grow: 1;}#sk-container-id-1 div.sk-label:hover label.sk-toggleable__label {background-color: #d4ebff;}#sk-container-id-1 div.sk-serial::before {content: \"\";position: absolute;border-left: 1px solid gray;box-sizing: border-box;top: 0;bottom: 0;left: 50%;z-index: 0;}#sk-container-id-1 div.sk-serial {display: flex;flex-direction: column;align-items: center;background-color: white;padding-right: 0.2em;padding-left: 0.2em;position: relative;}#sk-container-id-1 div.sk-item {position: relative;z-index: 1;}#sk-container-id-1 div.sk-parallel {display: flex;align-items: stretch;justify-content: center;background-color: white;position: relative;}#sk-container-id-1 div.sk-item::before, #sk-container-id-1 div.sk-parallel-item::before {content: \"\";position: absolute;border-left: 1px solid gray;box-sizing: border-box;top: 0;bottom: 0;left: 50%;z-index: -1;}#sk-container-id-1 div.sk-parallel-item {display: flex;flex-direction: column;z-index: 1;position: relative;background-color: white;}#sk-container-id-1 div.sk-parallel-item:first-child::after {align-self: flex-end;width: 50%;}#sk-container-id-1 div.sk-parallel-item:last-child::after {align-self: flex-start;width: 50%;}#sk-container-id-1 div.sk-parallel-item:only-child::after {width: 0;}#sk-container-id-1 div.sk-dashed-wrapped {border: 1px dashed gray;margin: 0 0.4em 0.5em 0.4em;box-sizing: border-box;padding-bottom: 0.4em;background-color: white;}#sk-container-id-1 div.sk-label label {font-family: monospace;font-weight: bold;display: inline-block;line-height: 1.2em;}#sk-container-id-1 div.sk-label-container {text-align: center;}#sk-container-id-1 div.sk-container {/* jupyter's `normalize.less` sets `[hidden] { display: none; }` but bootstrap.min.css set `[hidden] { display: none !important; }` so we also need the `!important` here to be able to override the default hidden behavior on the sphinx rendered scikit-learn.org. See: https://github.com/scikit-learn/scikit-learn/issues/21755 */display: inline-block !important;position: relative;}#sk-container-id-1 div.sk-text-repr-fallback {display: none;}</style><div id=\"sk-container-id-1\" class=\"sk-top-container\"><div class=\"sk-text-repr-fallback\"><pre>StandardScaler()</pre><b>In a Jupyter environment, please rerun this cell to show the HTML representation or trust the notebook. <br />On GitHub, the HTML representation is unable to render, please try loading this page with nbviewer.org.</b></div><div class=\"sk-container\" hidden><div class=\"sk-item\"><div class=\"sk-estimator sk-toggleable\"><input class=\"sk-toggleable__control sk-hidden--visually\" id=\"sk-estimator-id-1\" type=\"checkbox\" checked><label for=\"sk-estimator-id-1\" class=\"sk-toggleable__label sk-toggleable__label-arrow\">StandardScaler</label><div class=\"sk-toggleable__content\"><pre>StandardScaler()</pre></div></div></div></div></div>"
      ],
      "text/plain": [
       "StandardScaler()"
      ]
     },
     "execution_count": 26,
     "metadata": {},
     "output_type": "execute_result"
    }
   ],
   "source": [
    "scaler"
   ]
  },
  {
   "cell_type": "code",
   "execution_count": 27,
   "id": "54181408-8cf1-4546-bfbd-9e6e2a87ce34",
   "metadata": {},
   "outputs": [
    {
     "data": {
      "text/plain": [
       "array([[ 0.        , -1.14846907,  0.06781338, ...,  0.39461161,\n",
       "        -0.00996551, -0.68236225],\n",
       "       [ 0.        , -1.73626733,  1.06815743, ..., -0.53783797,\n",
       "         1.01865465, -0.68236225],\n",
       "       [ 0.        , -1.15748131, -0.79915147, ...,  1.08686434,\n",
       "         0.1204046 ,  0.86261764],\n",
       "       ...,\n",
       "       [ 0.        ,  0.51378837, -0.59793284, ...,  0.24212709,\n",
       "        -1.54963649, -0.28417156],\n",
       "       [ 0.        ,  1.64532506, -0.52319449, ..., -0.14920486,\n",
       "        -0.76741584, -0.28417156],\n",
       "       [ 0.        ,  1.05452272, -0.56918732, ..., -0.54053681,\n",
       "         0.96650661, -0.28417156]])"
      ]
     },
     "execution_count": 27,
     "metadata": {},
     "output_type": "execute_result"
    }
   ],
   "source": [
    "scaler.fit_transform(x_train)\n",
    "scaler.fit_transform(x_test)"
   ]
  },
  {
   "cell_type": "markdown",
   "id": "97221115-d37e-4b22-89c7-230a4b03ae32",
   "metadata": {},
   "source": [
    "### Defining the Batch Gradient Descent function"
   ]
  },
  {
   "cell_type": "code",
   "execution_count": 28,
   "id": "0cf112dc-6bee-4b79-b0a2-5cd0e7c5b41b",
   "metadata": {},
   "outputs": [],
   "source": [
    "coef = np.ones(9)"
   ]
  },
  {
   "cell_type": "code",
   "execution_count": 29,
   "id": "ffddac9e-70a4-4a53-8073-29be170b6d09",
   "metadata": {},
   "outputs": [],
   "source": [
    "def grad_desc(x,y,al,epoch):\n",
    "    m = y.size\n",
    "    theta = [1,1,1,1,1,1,1,1,1]\n",
    "    h = np.dot(x,theta)\n",
    "    cost = np.ones(epoch)\n",
    "\n",
    "    for i in range(epoch):\n",
    "        theta[0] = theta[0] - al*(1/m)*sum(h-y)\n",
    "        for j in range(1,9):\n",
    "            slope = (al*(1/m)*np.dot((h - y),np.transpose(x.iloc[:,j])))\n",
    "            theta[j] = theta[j] - slope\n",
    "        h = np.dot(x,theta)\n",
    "        cost[i] = 1/(2*m)*sum(np.square(h-y))\n",
    "        if abs(slope) < 0.00000001:\n",
    "            break         \n",
    "    return theta,cost"
   ]
  },
  {
   "cell_type": "code",
   "execution_count": 30,
   "id": "19d739be-02fd-4c6d-abe2-48e85dee3df4",
   "metadata": {},
   "outputs": [],
   "source": [
    "coef, j = grad_desc(x_train,y_train,0.000001,40000)"
   ]
  },
  {
   "cell_type": "code",
   "execution_count": 31,
   "id": "ffcba3d1-6231-4e02-9060-c9ae783bd32a",
   "metadata": {},
   "outputs": [
    {
     "data": {
      "text/plain": [
       "[0.9962863851414038,\n",
       " 0.10906041514068966,\n",
       " 0.08607754741666496,\n",
       " 0.06464442405720786,\n",
       " -0.14249839835359723,\n",
       " 0.609620786009009,\n",
       " 0.012039969485412834,\n",
       " 0.00012255673257082278,\n",
       " 0.10712660638347599]"
      ]
     },
     "execution_count": 31,
     "metadata": {},
     "output_type": "execute_result"
    }
   ],
   "source": [
    "coef"
   ]
  },
  {
   "cell_type": "markdown",
   "id": "24d3da37-a09d-4de3-93ed-64c1e3a3e0a4",
   "metadata": {},
   "source": [
    "Checking the predicted values of the model"
   ]
  },
  {
   "cell_type": "code",
   "execution_count": 32,
   "id": "a5a6faec-a576-4b27-a7e2-cdd7cbb6fc86",
   "metadata": {},
   "outputs": [],
   "source": [
    "gd_prd = np.dot(x_test, coef)\n",
    "gd_prd1 = np.dot(x_train, coef)"
   ]
  },
  {
   "cell_type": "code",
   "execution_count": 33,
   "id": "a1962930-b57f-4740-8e0e-b314a15a732c",
   "metadata": {},
   "outputs": [],
   "source": [
    "test_score = r2_score(y_test,gd_prd)\n",
    "train_score= r2_score(y_train,gd_prd1)"
   ]
  },
  {
   "cell_type": "code",
   "execution_count": 34,
   "id": "f5ae10d1-602a-4611-8c7d-ae918deb5090",
   "metadata": {},
   "outputs": [
    {
     "name": "stdout",
     "output_type": "stream",
     "text": [
      "0.583764962679531\n",
      "0.6146870690708373\n"
     ]
    }
   ],
   "source": [
    "print(test_score)\n",
    "print(train_score)"
   ]
  },
  {
   "cell_type": "code",
   "execution_count": 35,
   "id": "d9d3f010-8fa5-4a76-927a-f18afae80563",
   "metadata": {},
   "outputs": [],
   "source": [
    "# using stochastic gradient descent\n"
   ]
  },
  {
   "cell_type": "markdown",
   "id": "5b6e75e8-d775-4c4f-b4de-fd71bb3d1cf5",
   "metadata": {},
   "source": [
    "### Mini gradient descent"
   ]
  },
  {
   "cell_type": "code",
   "execution_count": 36,
   "id": "8a1f31d1-9609-4504-ad04-980b2e19cd8c",
   "metadata": {},
   "outputs": [],
   "source": [
    "def mini_grad_desc(x,y,al,epoch):\n",
    "    m = y.size\n",
    "    theta = [1,1,1,1,1,1,1,1,1]\n",
    "    cost = np.ones(epoch)\n",
    "    k = 10\n",
    "    \n",
    "    si = m//k\n",
    "    for l in range(1,k):\n",
    "        x_mini, y_mini = x.iloc[l*si:(l+1)*si,:],y.iloc[l*si:(l+1)*si]\n",
    "        h = np.dot(x_mini,theta)\n",
    "        \n",
    "        for i in range(epoch):\n",
    "            theta[0] = theta[0] - al*(1/si)*sum(h-y_mini)\n",
    "            for j in range(1,9):\n",
    "                slope = (al*(1/si)*np.dot((h - y_mini),np.transpose(x_mini.iloc[:,j])))\n",
    "                theta[j] = theta[j] - slope\n",
    "            h = np.dot(x_mini,theta)\n",
    "            cost[i] = 1/(2*si)*sum(np.square(h-y_mini))\n",
    "            if abs(slope) < 0.00000001:\n",
    "                return theta,cost\n",
    "    return theta,cost"
   ]
  },
  {
   "cell_type": "code",
   "execution_count": 37,
   "id": "cf0ba827-cec7-4959-986e-b81363936cf5",
   "metadata": {},
   "outputs": [],
   "source": [
    "coef, j = mini_grad_desc(x_train,y_train,0.000001,40000)"
   ]
  },
  {
   "cell_type": "code",
   "execution_count": 38,
   "id": "d4d3f2c9-90c5-48ec-a178-d6446314dd07",
   "metadata": {},
   "outputs": [
    {
     "data": {
      "text/plain": [
       "[0.9968213578554259,\n",
       " 0.08101756472583278,\n",
       " 0.05502304613540613,\n",
       " -0.008407788825583159,\n",
       " -0.04550310967907829,\n",
       " 0.9360976984973036,\n",
       " 0.0210643149782599,\n",
       " -0.023647777246886253,\n",
       " 0.20659290344759387]"
      ]
     },
     "execution_count": 38,
     "metadata": {},
     "output_type": "execute_result"
    }
   ],
   "source": [
    "coef"
   ]
  },
  {
   "cell_type": "code",
   "execution_count": 39,
   "id": "93487ad2-625f-4535-b8f2-dc14c5d537e5",
   "metadata": {},
   "outputs": [
    {
     "name": "stdout",
     "output_type": "stream",
     "text": [
      "0.3843559504422537\n",
      "0.35238641099494783\n"
     ]
    }
   ],
   "source": [
    "gd_prd = np.dot(x_test, coef)\n",
    "gd_prd1 = np.dot(x_train, coef)\n",
    "score = r2_score(y_test,gd_prd)\n",
    "score1= r2_score(y_train,gd_prd1)\n",
    "print(score)\n",
    "print(score1)"
   ]
  },
  {
   "cell_type": "markdown",
   "id": "c8d27d1c-f52e-4ae3-80d3-5a886d14d0ef",
   "metadata": {},
   "source": [
    "## Checking for the Assumptions"
   ]
  },
  {
   "cell_type": "markdown",
   "id": "7455bce7-8626-4f67-9480-b6ebe8bd5ecf",
   "metadata": {},
   "source": [
    "#### Relationship between Real Data & Predicted Data"
   ]
  },
  {
   "cell_type": "code",
   "execution_count": 40,
   "id": "f51412a5-dddf-4375-9437-b035e6ec333b",
   "metadata": {},
   "outputs": [
    {
     "data": {
      "text/plain": [
       "Text(0, 0.5, 'Test predicted data')"
      ]
     },
     "execution_count": 40,
     "metadata": {},
     "output_type": "execute_result"
    },
    {
     "data": {
      "image/png": "[encoded data removed]",
      "text/plain": [
       "<Figure size 640x480 with 1 Axes>"
      ]
     },
     "metadata": {},
     "output_type": "display_data"
    }
   ],
   "source": [
    "plt.scatter(y_test,y_pred)\n",
    "plt.xlabel(\"Test Truth Data\")\n",
    "plt.ylabel(\"Test predicted data\")"
   ]
  },
  {
   "cell_type": "markdown",
   "id": "797f6c5d-5d02-4457-b817-7a2ff9f3142d",
   "metadata": {},
   "source": [
    "#### Calculating the residuals"
   ]
  },
  {
   "cell_type": "code",
   "execution_count": 41,
   "id": "15af8863-908a-4864-8606-8d6007ab8999",
   "metadata": {},
   "outputs": [],
   "source": [
    "residuals = y_test - y_pred"
   ]
  },
  {
   "cell_type": "code",
   "execution_count": 42,
   "id": "6a9a8d64-5738-460b-9555-b013e13866ac",
   "metadata": {},
   "outputs": [
    {
     "data": {
      "text/plain": [
       "412   -16.529208\n",
       "688    -7.411764\n",
       "223     1.272545\n",
       "311     4.480699\n",
       "641    -3.599990\n",
       "         ...    \n",
       "761    -0.485945\n",
       "591     1.927317\n",
       "392    -0.472334\n",
       "472   -10.883925\n",
       "486    -5.170471\n",
       "Name: Concrete compressive strength(MPa, megapascals) , Length: 309, dtype: float64"
      ]
     },
     "execution_count": 42,
     "metadata": {},
     "output_type": "execute_result"
    }
   ],
   "source": [
    "residuals"
   ]
  },
  {
   "cell_type": "markdown",
   "id": "6620cf61-35ab-4b33-af7b-7cdb69250028",
   "metadata": {},
   "source": [
    "#### Checking the distribution of the residuals"
   ]
  },
  {
   "cell_type": "code",
   "execution_count": 43,
   "id": "1854389f-94af-4f55-98ce-25a7909b704c",
   "metadata": {},
   "outputs": [
    {
     "data": {
      "text/plain": [
       "<seaborn.axisgrid.FacetGrid at 0x224997d3c10>"
      ]
     },
     "execution_count": 43,
     "metadata": {},
     "output_type": "execute_result"
    },
    {
     "data": {
      "image/png": "[encoded data removed]",
      "text/plain": [
       "<Figure size 500x500 with 1 Axes>"
      ]
     },
     "metadata": {},
     "output_type": "display_data"
    }
   ],
   "source": [
    "sns.displot(residuals, kind = 'kde')"
   ]
  },
  {
   "cell_type": "markdown",
   "id": "5f68d6a6-dc79-4e5f-bbd4-c09e9a3f84c1",
   "metadata": {},
   "source": [
    "##### Observation - it is close the normal distribution but with slightly more peakedness"
   ]
  },
  {
   "cell_type": "markdown",
   "id": "93d792c6-6b17-4ab8-a1cc-9aac04f17550",
   "metadata": {},
   "source": [
    "### Homoscedacity - Scatter plot with predicted and residuals"
   ]
  },
  {
   "cell_type": "code",
   "execution_count": 44,
   "id": "2b5070c5-5a94-4814-a6f5-f23df2faee69",
   "metadata": {},
   "outputs": [
    {
     "data": {
      "text/plain": [
       "<matplotlib.collections.PathCollection at 0x224996c4520>"
      ]
     },
     "execution_count": 44,
     "metadata": {},
     "output_type": "execute_result"
    },
    {
     "data": {
      "image/png": "[encoded data removed]",
      "text/plain": [
       "<Figure size 640x480 with 1 Axes>"
      ]
     },
     "metadata": {},
     "output_type": "display_data"
    }
   ],
   "source": [
    "plt.scatter(y_pred,residuals)"
   ]
  },
  {
   "cell_type": "markdown",
   "id": "620c7000-0cd9-47c7-8043-f3eeba6820e4",
   "metadata": {},
   "source": [
    "#### Obseravtion - The spread seems to be less uniformly distributed "
   ]
  },
  {
   "cell_type": "code",
   "execution_count": null,
   "id": "e4adc2cd-c7f5-474d-92d6-da4d5729b9b8",
   "metadata": {},
   "outputs": [],
   "source": []
  }
 ],
 "metadata": {
  "kernelspec": {
   "display_name": "Python 3 (ipykernel)",
   "language": "python",
   "name": "python3"
  },
  "language_info": {
   "codemirror_mode": {
    "name": "ipython",
    "version": 3
   },
   "file_extension": ".py",
   "mimetype": "text/x-python",
   "name": "python",
   "nbconvert_exporter": "python",
   "pygments_lexer": "ipython3",
   "version": "3.10.5"
  }
 },
 "nbformat": 4,
 "nbformat_minor": 5
}
